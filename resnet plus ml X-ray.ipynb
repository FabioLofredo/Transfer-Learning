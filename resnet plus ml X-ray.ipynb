{
 "cells": [
  {
   "cell_type": "code",
   "execution_count": 1,
   "id": "94f4d92b",
   "metadata": {},
   "outputs": [
    {
     "name": "stdout",
     "output_type": "stream",
     "text": [
      "WARNING:tensorflow:From E:\\anaconda3\\Lib\\site-packages\\keras\\src\\losses.py:2976: The name tf.losses.sparse_softmax_cross_entropy is deprecated. Please use tf.compat.v1.losses.sparse_softmax_cross_entropy instead.\n",
      "\n"
     ]
    }
   ],
   "source": [
    "import numpy as np\n",
    "import pandas as pd\n",
    "import tensorflow as tf\n",
    "import os\n",
    "import PIL.Image as Image\n",
    "import cv2\n",
    "from tensorflow import keras\n",
    "from tensorflow.keras import layers\n",
    "from tensorflow.keras.models import Sequential\n",
    "from keras.preprocessing.image import ImageDataGenerator"
   ]
  },
  {
   "cell_type": "code",
   "execution_count": 2,
   "id": "cb9c30ed",
   "metadata": {},
   "outputs": [
    {
     "name": "stdout",
     "output_type": "stream",
     "text": [
      "WARNING:tensorflow:From E:\\anaconda3\\Lib\\site-packages\\keras\\src\\saving\\legacy\\saved_model\\load.py:107: The name tf.gfile.Exists is deprecated. Please use tf.io.gfile.exists instead.\n",
      "\n",
      "WARNING:tensorflow:From E:\\anaconda3\\Lib\\site-packages\\keras\\src\\saving\\legacy\\saved_model\\load.py:1113: The name tf.executing_eagerly_outside_functions is deprecated. Please use tf.compat.v1.executing_eagerly_outside_functions instead.\n",
      "\n",
      "WARNING:tensorflow:From E:\\anaconda3\\Lib\\site-packages\\keras\\src\\saving\\legacy\\saved_model\\load.py:178: The name tf.logging.warning is deprecated. Please use tf.compat.v1.logging.warning instead.\n",
      "\n",
      "WARNING:tensorflow:No training configuration found in save file, so the model was *not* compiled. Compile it manually.\n"
     ]
    }
   ],
   "source": [
    "#model = create_model()\n",
    "model = keras.saving.load_model('model2')"
   ]
  },
  {
   "cell_type": "code",
   "execution_count": 3,
   "id": "98a83595",
   "metadata": {},
   "outputs": [
    {
     "name": "stdout",
     "output_type": "stream",
     "text": [
      "Model: \"sequential_2\"\n",
      "_________________________________________________________________\n",
      " Layer (type)                Output Shape              Param #   \n",
      "=================================================================\n",
      " keras_layer (KerasLayer)    (None, 1001)              44677609  \n",
      "                                                                 \n",
      " dense (Dense)               (None, 64)                64128     \n",
      "                                                                 \n",
      " dropout (Dropout)           (None, 64)                0         \n",
      "                                                                 \n",
      " dense_1 (Dense)             (None, 16)                1040      \n",
      "                                                                 \n",
      "=================================================================\n",
      "Total params: 44742777 (170.68 MB)\n",
      "Trainable params: 65168 (254.56 KB)\n",
      "Non-trainable params: 44677609 (170.43 MB)\n",
      "_________________________________________________________________\n"
     ]
    }
   ],
   "source": [
    "model.summary()"
   ]
  },
  {
   "cell_type": "code",
   "execution_count": 4,
   "id": "6bcc267c",
   "metadata": {},
   "outputs": [
    {
     "name": "stdout",
     "output_type": "stream",
     "text": [
      "test files normal/pneumonia:  234 / 390\n",
      "train files normal/pneumonia:  1341 / 3875\n"
     ]
    }
   ],
   "source": [
    "from pathlib import Path\n",
    "path = Path.cwd()/ Path('chest_xray')\n",
    "list_folders = [p for p in path.rglob('*') if p.is_dir()]\n",
    "list_folders = list_folders[2:]\n",
    "list_folders\n",
    "test_normal = [p for p in list_folders[0].rglob('*') if p.is_file()]\n",
    "test_pneumonia = [p for p in list_folders[1].rglob('*') if p.is_file()]\n",
    "train_normal = [p for p in list_folders[2].rglob('*') if p.is_file()]\n",
    "train_pneumonia = [p for p in list_folders[3].rglob('*') if p.is_file()]\n",
    "print('test files normal/pneumonia: ', len(test_normal) , '/' , len(test_pneumonia))\n",
    "print('train files normal/pneumonia: ', len(train_normal) , '/' , len(train_pneumonia))\n"
   ]
  },
  {
   "cell_type": "code",
   "execution_count": 5,
   "id": "0ae9187f",
   "metadata": {},
   "outputs": [],
   "source": [
    "def file_path_to_image_pil(path):\n",
    "    return Image.open(str(path))\n",
    "\n",
    "def file_path_to_image_numpy(path):\n",
    "    return np.array(Image.open(str(path)))\n",
    "\n",
    "def image_numpy_to_image_numpy_resize(image_np):\n",
    "    return cv2.resize(image_np,(224,224))\n",
    "\n",
    "def image_numpy_to_image_pil(image_np):\n",
    "    return Image.fromarray(image_np)\n",
    "    image1 = np.array(Image.open(str(image)))\n",
    "    resized_img = cv2.resize(image1,(224,224))\n",
    "    \n",
    "X_test, y_test, X_train, y_train = [],[],[],[]\n",
    "\n",
    "def file_path_to_img_normalization(path):\n",
    "    image = file_path_to_image_numpy(path)\n",
    "    image = image_numpy_to_image_numpy_resize(image)\n",
    "    return image\n",
    "    \n",
    "for file_path in test_normal:\n",
    "    X_test.append(file_path_to_img_normalization(file_path))\n",
    "    y_test.append(0)\n",
    "\n",
    "for file_path in test_pneumonia:\n",
    "    X_test.append(file_path_to_img_normalization(file_path))\n",
    "    y_test.append(1)\n",
    "    \n",
    "for file_path in train_normal:\n",
    "    X_train.append(file_path_to_img_normalization(file_path))\n",
    "    y_train.append(0)\n",
    "    \n",
    "for file_path in train_pneumonia:\n",
    "    X_train.append(file_path_to_img_normalization(file_path))\n",
    "    y_train.append(1) "
   ]
  },
  {
   "cell_type": "code",
   "execution_count": 6,
   "id": "5e48a2d9",
   "metadata": {},
   "outputs": [
    {
     "name": "stdout",
     "output_type": "stream",
     "text": [
      "RGB= 283 ; GREY= 5557 ; Error= 0\n"
     ]
    }
   ],
   "source": [
    "RGB = 0\n",
    "GREY = 0\n",
    "Error = 0\n",
    "for group in [X_test, X_train]:\n",
    "    for image in group:\n",
    "        if image.shape == (224, 224, 3):\n",
    "            RGB+=1\n",
    "        elif image.shape == (224, 224):\n",
    "            GREY += 1\n",
    "        else:\n",
    "            print (\"Error\")\n",
    "print(\"RGB=\", RGB , \"; GREY=\",GREY, \"; Error=\",Error)"
   ]
  },
  {
   "cell_type": "code",
   "execution_count": 7,
   "id": "fc73337d",
   "metadata": {},
   "outputs": [],
   "source": [
    "for i in range(len(X_test)):\n",
    "    if X_test[i].shape == (224, 224):\n",
    "        X_test[i] = np.repeat(X_test[i][:, :, np.newaxis], 3, axis=2)\n",
    "        \n",
    "for i in range(len(X_train)):\n",
    "    if X_train[i].shape == (224, 224):\n",
    "        X_train[i] = np.repeat(X_train[i][:, :, np.newaxis], 3, axis=2)"
   ]
  },
  {
   "cell_type": "code",
   "execution_count": 8,
   "id": "ea37ffb2",
   "metadata": {},
   "outputs": [
    {
     "name": "stdout",
     "output_type": "stream",
     "text": [
      "OK\n",
      "[[32 32 32 ... 32 30 35]\n",
      " [32 32 29 ... 30 33 33]\n",
      " [32 32 34 ... 32 34 31]\n",
      " ...\n",
      " [32 30 28 ... 33 33 32]\n",
      " [29 27 29 ... 32 33 35]\n",
      " [31 31 29 ... 33 31 34]] \n",
      " ------------------------------ \n",
      " [[32 32 32 ... 32 30 35]\n",
      " [32 32 29 ... 30 33 33]\n",
      " [32 32 34 ... 32 34 31]\n",
      " ...\n",
      " [32 30 28 ... 33 33 32]\n",
      " [29 27 29 ... 32 33 35]\n",
      " [31 31 29 ... 33 31 34]] \n",
      " ------------------------------ \n",
      " [[32 32 32 ... 32 30 35]\n",
      " [32 32 29 ... 30 33 33]\n",
      " [32 32 34 ... 32 34 31]\n",
      " ...\n",
      " [32 30 28 ... 33 33 32]\n",
      " [29 27 29 ... 32 33 35]\n",
      " [31 31 29 ... 33 31 34]]\n"
     ]
    }
   ],
   "source": [
    "temp1 = X_test[0][:,:,0]\n",
    "temp2 = X_test[0][:,:,1]\n",
    "temp3 = X_test[0][:,:,2]\n",
    "if (np.array_equal(temp1,temp2)) and (np.array_equal(temp1,temp3)):\n",
    "    print(\"OK\")\n",
    "print(temp1,\"\\n\",30*\"-\",\"\\n\",temp2,\"\\n\",30*\"-\",\"\\n\",temp3)"
   ]
  },
  {
   "cell_type": "code",
   "execution_count": 9,
   "id": "f95fa3d2",
   "metadata": {},
   "outputs": [],
   "source": [
    "def normalization(image_np):\n",
    "    return image_np/255\n",
    "\n",
    "def undo_normalization():\n",
    "    return (image_np*255).astype(np.uint8)\n",
    "\n",
    "X_test_np = np.array(X_test)\n",
    "X_train_np = np.array(X_train)\n",
    "\n",
    "y_test_np = np.array(y_test)\n",
    "y_train_np = np.array(y_train)\n",
    "\n",
    "X_test_scaled = normalization(X_test_np)\n",
    "X_train_scaled = normalization(X_train_np)"
   ]
  },
  {
   "cell_type": "code",
   "execution_count": 10,
   "id": "17950f37",
   "metadata": {},
   "outputs": [
    {
     "name": "stdout",
     "output_type": "stream",
     "text": [
      "163/163 [==============================] - 131s 777ms/step\n",
      "20/20 [==============================] - 16s 745ms/step\n"
     ]
    }
   ],
   "source": [
    "X_train = model.predict(X_train_scaled)\n",
    "X_test = model.predict(X_test_scaled)"
   ]
  },
  {
   "cell_type": "code",
   "execution_count": 11,
   "id": "192d9c74",
   "metadata": {},
   "outputs": [
    {
     "data": {
      "text/plain": [
       "(5216, 16)"
      ]
     },
     "execution_count": 11,
     "metadata": {},
     "output_type": "execute_result"
    }
   ],
   "source": [
    "X_train.shape"
   ]
  },
  {
   "cell_type": "code",
   "execution_count": 12,
   "id": "20af25ae",
   "metadata": {},
   "outputs": [
    {
     "data": {
      "text/plain": [
       "(5216,)"
      ]
     },
     "execution_count": 12,
     "metadata": {},
     "output_type": "execute_result"
    }
   ],
   "source": [
    "y_train_np.shape"
   ]
  },
  {
   "cell_type": "code",
   "execution_count": 13,
   "id": "eb015b87",
   "metadata": {},
   "outputs": [
    {
     "data": {
      "text/plain": [
       "(624, 16)"
      ]
     },
     "execution_count": 13,
     "metadata": {},
     "output_type": "execute_result"
    }
   ],
   "source": [
    "X_test.shape"
   ]
  },
  {
   "cell_type": "code",
   "execution_count": 14,
   "id": "b446e2d2",
   "metadata": {},
   "outputs": [
    {
     "data": {
      "text/plain": [
       "(624,)"
      ]
     },
     "execution_count": 14,
     "metadata": {},
     "output_type": "execute_result"
    }
   ],
   "source": [
    "y_test_np.shape"
   ]
  },
  {
   "cell_type": "code",
   "execution_count": 15,
   "id": "6fc021ae",
   "metadata": {},
   "outputs": [
    {
     "name": "stdout",
     "output_type": "stream",
     "text": [
      "Requirement already satisfied: pycaret in e:\\anaconda3\\lib\\site-packages (3.3.0)\n",
      "Requirement already satisfied: ipython>=5.5.0 in e:\\anaconda3\\lib\\site-packages (from pycaret) (8.15.0)\n",
      "Requirement already satisfied: ipywidgets>=7.6.5 in e:\\anaconda3\\lib\\site-packages (from pycaret) (8.0.4)\n",
      "Requirement already satisfied: tqdm>=4.62.0 in e:\\anaconda3\\lib\\site-packages (from pycaret) (4.65.0)\n",
      "Requirement already satisfied: numpy<1.27,>=1.21 in e:\\anaconda3\\lib\\site-packages (from pycaret) (1.24.3)\n",
      "Requirement already satisfied: pandas<2.2.0 in e:\\anaconda3\\lib\\site-packages (from pycaret) (2.0.3)\n",
      "Requirement already satisfied: jinja2>=3 in e:\\anaconda3\\lib\\site-packages (from pycaret) (3.1.2)\n",
      "Requirement already satisfied: scipy<=1.11.4,>=1.6.1 in e:\\anaconda3\\lib\\site-packages (from pycaret) (1.11.1)\n",
      "Requirement already satisfied: joblib>=1.2.0 in e:\\anaconda3\\lib\\site-packages (from pycaret) (1.2.0)\n",
      "Requirement already satisfied: scikit-learn>1.4.0 in e:\\anaconda3\\lib\\site-packages (from pycaret) (1.4.1.post1)\n",
      "Requirement already satisfied: pyod>=1.1.3 in e:\\anaconda3\\lib\\site-packages (from pycaret) (1.1.3)\n",
      "Requirement already satisfied: imbalanced-learn>=0.12.0 in e:\\anaconda3\\lib\\site-packages (from pycaret) (0.12.0)\n",
      "Requirement already satisfied: category-encoders>=2.4.0 in e:\\anaconda3\\lib\\site-packages (from pycaret) (2.6.3)\n",
      "Requirement already satisfied: lightgbm>=3.0.0 in e:\\anaconda3\\lib\\site-packages (from pycaret) (4.3.0)\n",
      "Requirement already satisfied: numba>=0.55.0 in e:\\anaconda3\\lib\\site-packages (from pycaret) (0.57.1)\n",
      "Requirement already satisfied: requests>=2.27.1 in e:\\anaconda3\\lib\\site-packages (from pycaret) (2.31.0)\n",
      "Requirement already satisfied: psutil>=5.9.0 in e:\\anaconda3\\lib\\site-packages (from pycaret) (5.9.0)\n",
      "Requirement already satisfied: markupsafe>=2.0.1 in e:\\anaconda3\\lib\\site-packages (from pycaret) (2.1.1)\n",
      "Requirement already satisfied: importlib-metadata>=4.12.0 in e:\\anaconda3\\lib\\site-packages (from pycaret) (6.0.0)\n",
      "Requirement already satisfied: nbformat>=4.2.0 in e:\\anaconda3\\lib\\site-packages (from pycaret) (5.9.2)\n",
      "Requirement already satisfied: cloudpickle in e:\\anaconda3\\lib\\site-packages (from pycaret) (2.2.1)\n",
      "Requirement already satisfied: deprecation>=2.1.0 in e:\\anaconda3\\lib\\site-packages (from pycaret) (2.1.0)\n",
      "Requirement already satisfied: xxhash in e:\\anaconda3\\lib\\site-packages (from pycaret) (2.0.2)\n",
      "Requirement already satisfied: matplotlib<3.8.0 in e:\\anaconda3\\lib\\site-packages (from pycaret) (3.7.2)\n",
      "Requirement already satisfied: scikit-plot>=0.3.7 in e:\\anaconda3\\lib\\site-packages (from pycaret) (0.3.7)\n",
      "Requirement already satisfied: yellowbrick>=1.4 in e:\\anaconda3\\lib\\site-packages (from pycaret) (1.5)\n",
      "Requirement already satisfied: plotly>=5.14.0 in e:\\anaconda3\\lib\\site-packages (from pycaret) (5.19.0)\n",
      "Requirement already satisfied: kaleido>=0.2.1 in e:\\anaconda3\\lib\\site-packages (from pycaret) (0.2.1)\n",
      "Requirement already satisfied: schemdraw==0.15 in e:\\anaconda3\\lib\\site-packages (from pycaret) (0.15)\n",
      "Requirement already satisfied: plotly-resampler>=0.8.3.1 in e:\\anaconda3\\lib\\site-packages (from pycaret) (0.9.2)\n",
      "Requirement already satisfied: statsmodels>=0.12.1 in e:\\anaconda3\\lib\\site-packages (from pycaret) (0.14.0)\n",
      "Requirement already satisfied: sktime>=0.26.0 in e:\\anaconda3\\lib\\site-packages (from pycaret) (0.26.0)\n",
      "Requirement already satisfied: tbats>=1.1.3 in e:\\anaconda3\\lib\\site-packages (from pycaret) (1.1.3)\n",
      "Requirement already satisfied: pmdarima>=2.0.4 in e:\\anaconda3\\lib\\site-packages (from pycaret) (2.0.4)\n",
      "Requirement already satisfied: patsy>=0.5.1 in e:\\anaconda3\\lib\\site-packages (from category-encoders>=2.4.0->pycaret) (0.5.3)\n",
      "Requirement already satisfied: packaging in e:\\anaconda3\\lib\\site-packages (from deprecation>=2.1.0->pycaret) (23.1)\n",
      "Requirement already satisfied: threadpoolctl>=2.0.0 in e:\\anaconda3\\lib\\site-packages (from imbalanced-learn>=0.12.0->pycaret) (2.2.0)\n",
      "Requirement already satisfied: zipp>=0.5 in e:\\anaconda3\\lib\\site-packages (from importlib-metadata>=4.12.0->pycaret) (3.11.0)\n",
      "Requirement already satisfied: backcall in e:\\anaconda3\\lib\\site-packages (from ipython>=5.5.0->pycaret) (0.2.0)\n",
      "Requirement already satisfied: decorator in e:\\anaconda3\\lib\\site-packages (from ipython>=5.5.0->pycaret) (5.1.1)\n",
      "Requirement already satisfied: jedi>=0.16 in e:\\anaconda3\\lib\\site-packages (from ipython>=5.5.0->pycaret) (0.18.1)\n",
      "Requirement already satisfied: matplotlib-inline in e:\\anaconda3\\lib\\site-packages (from ipython>=5.5.0->pycaret) (0.1.6)\n",
      "Requirement already satisfied: pickleshare in e:\\anaconda3\\lib\\site-packages (from ipython>=5.5.0->pycaret) (0.7.5)\n",
      "Requirement already satisfied: prompt-toolkit!=3.0.37,<3.1.0,>=3.0.30 in e:\\anaconda3\\lib\\site-packages (from ipython>=5.5.0->pycaret) (3.0.36)\n",
      "Requirement already satisfied: pygments>=2.4.0 in e:\\anaconda3\\lib\\site-packages (from ipython>=5.5.0->pycaret) (2.15.1)\n",
      "Requirement already satisfied: stack-data in e:\\anaconda3\\lib\\site-packages (from ipython>=5.5.0->pycaret) (0.2.0)\n",
      "Requirement already satisfied: traitlets>=5 in e:\\anaconda3\\lib\\site-packages (from ipython>=5.5.0->pycaret) (5.7.1)\n",
      "Requirement already satisfied: colorama in e:\\anaconda3\\lib\\site-packages (from ipython>=5.5.0->pycaret) (0.4.6)\n",
      "Requirement already satisfied: ipykernel>=4.5.1 in e:\\anaconda3\\lib\\site-packages (from ipywidgets>=7.6.5->pycaret) (6.25.0)\n",
      "Requirement already satisfied: widgetsnbextension~=4.0 in e:\\anaconda3\\lib\\site-packages (from ipywidgets>=7.6.5->pycaret) (4.0.5)\n",
      "Requirement already satisfied: jupyterlab-widgets~=3.0 in e:\\anaconda3\\lib\\site-packages (from ipywidgets>=7.6.5->pycaret) (3.0.5)\n",
      "Requirement already satisfied: contourpy>=1.0.1 in e:\\anaconda3\\lib\\site-packages (from matplotlib<3.8.0->pycaret) (1.0.5)\n",
      "Requirement already satisfied: cycler>=0.10 in e:\\anaconda3\\lib\\site-packages (from matplotlib<3.8.0->pycaret) (0.11.0)\n",
      "Requirement already satisfied: fonttools>=4.22.0 in e:\\anaconda3\\lib\\site-packages (from matplotlib<3.8.0->pycaret) (4.25.0)\n",
      "Requirement already satisfied: kiwisolver>=1.0.1 in e:\\anaconda3\\lib\\site-packages (from matplotlib<3.8.0->pycaret) (1.4.4)\n",
      "Requirement already satisfied: pillow>=6.2.0 in e:\\anaconda3\\lib\\site-packages (from matplotlib<3.8.0->pycaret) (10.2.0)\n",
      "Requirement already satisfied: pyparsing<3.1,>=2.3.1 in e:\\anaconda3\\lib\\site-packages (from matplotlib<3.8.0->pycaret) (3.0.9)\n",
      "Requirement already satisfied: python-dateutil>=2.7 in e:\\anaconda3\\lib\\site-packages (from matplotlib<3.8.0->pycaret) (2.8.2)\n",
      "Requirement already satisfied: fastjsonschema in e:\\anaconda3\\lib\\site-packages (from nbformat>=4.2.0->pycaret) (2.16.2)\n",
      "Requirement already satisfied: jsonschema>=2.6 in e:\\anaconda3\\lib\\site-packages (from nbformat>=4.2.0->pycaret) (4.17.3)\n",
      "Requirement already satisfied: jupyter-core in e:\\anaconda3\\lib\\site-packages (from nbformat>=4.2.0->pycaret) (5.3.0)\n",
      "Requirement already satisfied: llvmlite<0.41,>=0.40.0dev0 in e:\\anaconda3\\lib\\site-packages (from numba>=0.55.0->pycaret) (0.40.0)\n",
      "Requirement already satisfied: pytz>=2020.1 in e:\\anaconda3\\lib\\site-packages (from pandas<2.2.0->pycaret) (2023.3.post1)\n",
      "Requirement already satisfied: tzdata>=2022.1 in e:\\anaconda3\\lib\\site-packages (from pandas<2.2.0->pycaret) (2023.3)\n",
      "Requirement already satisfied: tenacity>=6.2.0 in e:\\anaconda3\\lib\\site-packages (from plotly>=5.14.0->pycaret) (8.2.2)\n",
      "Requirement already satisfied: dash>=2.9.0 in e:\\anaconda3\\lib\\site-packages (from plotly-resampler>=0.8.3.1->pycaret) (2.15.0)\n",
      "Requirement already satisfied: orjson<4.0.0,>=3.8.0 in e:\\anaconda3\\lib\\site-packages (from plotly-resampler>=0.8.3.1->pycaret) (3.9.14)\n",
      "Requirement already satisfied: tsdownsample==0.1.2 in e:\\anaconda3\\lib\\site-packages (from plotly-resampler>=0.8.3.1->pycaret) (0.1.2)\n",
      "Requirement already satisfied: Cython!=0.29.18,!=0.29.31,>=0.29 in e:\\anaconda3\\lib\\site-packages (from pmdarima>=2.0.4->pycaret) (3.0.8)\n",
      "Requirement already satisfied: urllib3 in e:\\anaconda3\\lib\\site-packages (from pmdarima>=2.0.4->pycaret) (1.26.16)\n",
      "Requirement already satisfied: setuptools!=50.0.0,>=38.6.0 in e:\\anaconda3\\lib\\site-packages (from pmdarima>=2.0.4->pycaret) (68.0.0)\n",
      "Requirement already satisfied: six in e:\\anaconda3\\lib\\site-packages (from pyod>=1.1.3->pycaret) (1.16.0)\n",
      "Requirement already satisfied: charset-normalizer<4,>=2 in e:\\anaconda3\\lib\\site-packages (from requests>=2.27.1->pycaret) (2.0.4)\n",
      "Requirement already satisfied: idna<4,>=2.5 in e:\\anaconda3\\lib\\site-packages (from requests>=2.27.1->pycaret) (3.4)\n",
      "Requirement already satisfied: certifi>=2017.4.17 in e:\\anaconda3\\lib\\site-packages (from requests>=2.27.1->pycaret) (2024.2.2)\n",
      "Requirement already satisfied: scikit-base<0.8.0 in e:\\anaconda3\\lib\\site-packages (from sktime>=0.26.0->pycaret) (0.7.2)\n",
      "Requirement already satisfied: Flask<3.1,>=1.0.4 in e:\\anaconda3\\lib\\site-packages (from dash>=2.9.0->plotly-resampler>=0.8.3.1->pycaret) (2.2.2)\n",
      "Requirement already satisfied: Werkzeug<3.1 in e:\\anaconda3\\lib\\site-packages (from dash>=2.9.0->plotly-resampler>=0.8.3.1->pycaret) (2.2.3)\n",
      "Requirement already satisfied: dash-html-components==2.0.0 in e:\\anaconda3\\lib\\site-packages (from dash>=2.9.0->plotly-resampler>=0.8.3.1->pycaret) (2.0.0)\n",
      "Requirement already satisfied: dash-core-components==2.0.0 in e:\\anaconda3\\lib\\site-packages (from dash>=2.9.0->plotly-resampler>=0.8.3.1->pycaret) (2.0.0)\n",
      "Requirement already satisfied: dash-table==5.0.0 in e:\\anaconda3\\lib\\site-packages (from dash>=2.9.0->plotly-resampler>=0.8.3.1->pycaret) (5.0.0)\n",
      "Requirement already satisfied: typing-extensions>=4.1.1 in e:\\anaconda3\\lib\\site-packages (from dash>=2.9.0->plotly-resampler>=0.8.3.1->pycaret) (4.7.1)\n",
      "Requirement already satisfied: retrying in e:\\anaconda3\\lib\\site-packages (from dash>=2.9.0->plotly-resampler>=0.8.3.1->pycaret) (1.3.4)\n",
      "Requirement already satisfied: nest-asyncio in e:\\anaconda3\\lib\\site-packages (from dash>=2.9.0->plotly-resampler>=0.8.3.1->pycaret) (1.5.6)\n",
      "Requirement already satisfied: comm>=0.1.1 in e:\\anaconda3\\lib\\site-packages (from ipykernel>=4.5.1->ipywidgets>=7.6.5->pycaret) (0.1.2)\n",
      "Requirement already satisfied: debugpy>=1.6.5 in e:\\anaconda3\\lib\\site-packages (from ipykernel>=4.5.1->ipywidgets>=7.6.5->pycaret) (1.6.7)\n",
      "Requirement already satisfied: jupyter-client>=6.1.12 in e:\\anaconda3\\lib\\site-packages (from ipykernel>=4.5.1->ipywidgets>=7.6.5->pycaret) (7.4.9)\n",
      "Requirement already satisfied: pyzmq>=20 in e:\\anaconda3\\lib\\site-packages (from ipykernel>=4.5.1->ipywidgets>=7.6.5->pycaret) (23.2.0)\n",
      "Requirement already satisfied: tornado>=6.1 in e:\\anaconda3\\lib\\site-packages (from ipykernel>=4.5.1->ipywidgets>=7.6.5->pycaret) (6.3.2)\n",
      "Requirement already satisfied: parso<0.9.0,>=0.8.0 in e:\\anaconda3\\lib\\site-packages (from jedi>=0.16->ipython>=5.5.0->pycaret) (0.8.3)\n",
      "Requirement already satisfied: attrs>=17.4.0 in e:\\anaconda3\\lib\\site-packages (from jsonschema>=2.6->nbformat>=4.2.0->pycaret) (22.1.0)\n",
      "Requirement already satisfied: pyrsistent!=0.17.0,!=0.17.1,!=0.17.2,>=0.14.0 in e:\\anaconda3\\lib\\site-packages (from jsonschema>=2.6->nbformat>=4.2.0->pycaret) (0.18.0)\n",
      "Requirement already satisfied: platformdirs>=2.5 in e:\\anaconda3\\lib\\site-packages (from jupyter-core->nbformat>=4.2.0->pycaret) (3.10.0)\n",
      "Requirement already satisfied: pywin32>=300 in e:\\anaconda3\\lib\\site-packages (from jupyter-core->nbformat>=4.2.0->pycaret) (305.1)\n",
      "Requirement already satisfied: wcwidth in e:\\anaconda3\\lib\\site-packages (from prompt-toolkit!=3.0.37,<3.1.0,>=3.0.30->ipython>=5.5.0->pycaret) (0.2.5)\n",
      "Requirement already satisfied: executing in e:\\anaconda3\\lib\\site-packages (from stack-data->ipython>=5.5.0->pycaret) (0.8.3)\n",
      "Requirement already satisfied: asttokens in e:\\anaconda3\\lib\\site-packages (from stack-data->ipython>=5.5.0->pycaret) (2.0.5)\n",
      "Requirement already satisfied: pure-eval in e:\\anaconda3\\lib\\site-packages (from stack-data->ipython>=5.5.0->pycaret) (0.2.2)\n",
      "Requirement already satisfied: itsdangerous>=2.0 in e:\\anaconda3\\lib\\site-packages (from Flask<3.1,>=1.0.4->dash>=2.9.0->plotly-resampler>=0.8.3.1->pycaret) (2.0.1)\n",
      "Requirement already satisfied: click>=8.0 in e:\\anaconda3\\lib\\site-packages (from Flask<3.1,>=1.0.4->dash>=2.9.0->plotly-resampler>=0.8.3.1->pycaret) (8.0.4)\n",
      "Requirement already satisfied: entrypoints in e:\\anaconda3\\lib\\site-packages (from jupyter-client>=6.1.12->ipykernel>=4.5.1->ipywidgets>=7.6.5->pycaret) (0.4)\n"
     ]
    }
   ],
   "source": [
    "!pip install pycaret"
   ]
  },
  {
   "cell_type": "code",
   "execution_count": 16,
   "id": "796a9be6",
   "metadata": {},
   "outputs": [
    {
     "data": {
      "text/plain": [
       "(5840, 16)"
      ]
     },
     "execution_count": 16,
     "metadata": {},
     "output_type": "execute_result"
    }
   ],
   "source": [
    "X = np.vstack((X_train, X_test))\n",
    "X.shape"
   ]
  },
  {
   "cell_type": "code",
   "execution_count": 17,
   "id": "65493478",
   "metadata": {},
   "outputs": [
    {
     "data": {
      "text/plain": [
       "(5840,)"
      ]
     },
     "execution_count": 17,
     "metadata": {},
     "output_type": "execute_result"
    }
   ],
   "source": [
    "y = np.concatenate((y_train_np, y_test_np))\n",
    "y.shape"
   ]
  },
  {
   "cell_type": "code",
   "execution_count": 18,
   "id": "dfe47ded",
   "metadata": {},
   "outputs": [
    {
     "data": {
      "text/plain": [
       "(5840, 17)"
      ]
     },
     "execution_count": 18,
     "metadata": {},
     "output_type": "execute_result"
    }
   ],
   "source": [
    "data_full = np.hstack((X, y.reshape(-1, 1)))\n",
    "data_full.shape\n"
   ]
  },
  {
   "cell_type": "code",
   "execution_count": 19,
   "id": "157589f5",
   "metadata": {},
   "outputs": [
    {
     "data": {
      "text/html": [
       "<div>\n",
       "<style scoped>\n",
       "    .dataframe tbody tr th:only-of-type {\n",
       "        vertical-align: middle;\n",
       "    }\n",
       "\n",
       "    .dataframe tbody tr th {\n",
       "        vertical-align: top;\n",
       "    }\n",
       "\n",
       "    .dataframe thead th {\n",
       "        text-align: right;\n",
       "    }\n",
       "</style>\n",
       "<table border=\"1\" class=\"dataframe\">\n",
       "  <thead>\n",
       "    <tr style=\"text-align: right;\">\n",
       "      <th></th>\n",
       "      <th>0</th>\n",
       "      <th>1</th>\n",
       "      <th>2</th>\n",
       "      <th>3</th>\n",
       "      <th>4</th>\n",
       "      <th>5</th>\n",
       "      <th>6</th>\n",
       "      <th>7</th>\n",
       "      <th>8</th>\n",
       "      <th>9</th>\n",
       "      <th>10</th>\n",
       "      <th>11</th>\n",
       "      <th>12</th>\n",
       "      <th>13</th>\n",
       "      <th>14</th>\n",
       "      <th>15</th>\n",
       "      <th>16</th>\n",
       "    </tr>\n",
       "  </thead>\n",
       "  <tbody>\n",
       "    <tr>\n",
       "      <th>0</th>\n",
       "      <td>0.000000</td>\n",
       "      <td>1.158536</td>\n",
       "      <td>0.000000</td>\n",
       "      <td>0.0</td>\n",
       "      <td>0.407447</td>\n",
       "      <td>0.000000</td>\n",
       "      <td>0.0</td>\n",
       "      <td>0.000000</td>\n",
       "      <td>0.000000</td>\n",
       "      <td>0.783899</td>\n",
       "      <td>1.717193</td>\n",
       "      <td>0.000000</td>\n",
       "      <td>0.000000</td>\n",
       "      <td>2.060250</td>\n",
       "      <td>0.481997</td>\n",
       "      <td>0.0</td>\n",
       "      <td>0.0</td>\n",
       "    </tr>\n",
       "    <tr>\n",
       "      <th>1</th>\n",
       "      <td>0.000000</td>\n",
       "      <td>1.584510</td>\n",
       "      <td>0.000000</td>\n",
       "      <td>0.0</td>\n",
       "      <td>1.718683</td>\n",
       "      <td>0.000000</td>\n",
       "      <td>0.0</td>\n",
       "      <td>0.000000</td>\n",
       "      <td>0.000000</td>\n",
       "      <td>1.244361</td>\n",
       "      <td>0.814854</td>\n",
       "      <td>0.000000</td>\n",
       "      <td>0.000000</td>\n",
       "      <td>2.230511</td>\n",
       "      <td>0.085195</td>\n",
       "      <td>0.0</td>\n",
       "      <td>0.0</td>\n",
       "    </tr>\n",
       "    <tr>\n",
       "      <th>2</th>\n",
       "      <td>0.000000</td>\n",
       "      <td>2.761390</td>\n",
       "      <td>0.000000</td>\n",
       "      <td>0.0</td>\n",
       "      <td>1.975990</td>\n",
       "      <td>0.000000</td>\n",
       "      <td>0.0</td>\n",
       "      <td>0.000000</td>\n",
       "      <td>0.000000</td>\n",
       "      <td>2.168732</td>\n",
       "      <td>1.976272</td>\n",
       "      <td>0.000000</td>\n",
       "      <td>0.000000</td>\n",
       "      <td>5.739696</td>\n",
       "      <td>0.054311</td>\n",
       "      <td>0.0</td>\n",
       "      <td>0.0</td>\n",
       "    </tr>\n",
       "    <tr>\n",
       "      <th>3</th>\n",
       "      <td>0.000000</td>\n",
       "      <td>1.926991</td>\n",
       "      <td>0.000000</td>\n",
       "      <td>0.0</td>\n",
       "      <td>1.026134</td>\n",
       "      <td>0.000000</td>\n",
       "      <td>0.0</td>\n",
       "      <td>0.000000</td>\n",
       "      <td>0.000000</td>\n",
       "      <td>1.718145</td>\n",
       "      <td>1.486154</td>\n",
       "      <td>0.000000</td>\n",
       "      <td>0.000000</td>\n",
       "      <td>4.407917</td>\n",
       "      <td>0.000000</td>\n",
       "      <td>0.0</td>\n",
       "      <td>0.0</td>\n",
       "    </tr>\n",
       "    <tr>\n",
       "      <th>4</th>\n",
       "      <td>0.000000</td>\n",
       "      <td>0.894852</td>\n",
       "      <td>0.000000</td>\n",
       "      <td>0.0</td>\n",
       "      <td>1.446362</td>\n",
       "      <td>0.000000</td>\n",
       "      <td>0.0</td>\n",
       "      <td>0.000000</td>\n",
       "      <td>0.000000</td>\n",
       "      <td>1.029538</td>\n",
       "      <td>1.307556</td>\n",
       "      <td>0.000000</td>\n",
       "      <td>0.000000</td>\n",
       "      <td>2.864645</td>\n",
       "      <td>1.198703</td>\n",
       "      <td>0.0</td>\n",
       "      <td>0.0</td>\n",
       "    </tr>\n",
       "    <tr>\n",
       "      <th>...</th>\n",
       "      <td>...</td>\n",
       "      <td>...</td>\n",
       "      <td>...</td>\n",
       "      <td>...</td>\n",
       "      <td>...</td>\n",
       "      <td>...</td>\n",
       "      <td>...</td>\n",
       "      <td>...</td>\n",
       "      <td>...</td>\n",
       "      <td>...</td>\n",
       "      <td>...</td>\n",
       "      <td>...</td>\n",
       "      <td>...</td>\n",
       "      <td>...</td>\n",
       "      <td>...</td>\n",
       "      <td>...</td>\n",
       "      <td>...</td>\n",
       "    </tr>\n",
       "    <tr>\n",
       "      <th>5835</th>\n",
       "      <td>2.589634</td>\n",
       "      <td>0.000000</td>\n",
       "      <td>6.876414</td>\n",
       "      <td>0.0</td>\n",
       "      <td>0.000000</td>\n",
       "      <td>8.591226</td>\n",
       "      <td>0.0</td>\n",
       "      <td>2.174064</td>\n",
       "      <td>5.135255</td>\n",
       "      <td>0.000000</td>\n",
       "      <td>0.000000</td>\n",
       "      <td>9.912086</td>\n",
       "      <td>3.272862</td>\n",
       "      <td>0.000000</td>\n",
       "      <td>10.029964</td>\n",
       "      <td>0.0</td>\n",
       "      <td>1.0</td>\n",
       "    </tr>\n",
       "    <tr>\n",
       "      <th>5836</th>\n",
       "      <td>2.746883</td>\n",
       "      <td>0.000000</td>\n",
       "      <td>6.964716</td>\n",
       "      <td>0.0</td>\n",
       "      <td>0.000000</td>\n",
       "      <td>4.931220</td>\n",
       "      <td>0.0</td>\n",
       "      <td>1.817608</td>\n",
       "      <td>2.229113</td>\n",
       "      <td>0.000000</td>\n",
       "      <td>0.000000</td>\n",
       "      <td>7.554579</td>\n",
       "      <td>4.087494</td>\n",
       "      <td>0.000000</td>\n",
       "      <td>8.482302</td>\n",
       "      <td>0.0</td>\n",
       "      <td>1.0</td>\n",
       "    </tr>\n",
       "    <tr>\n",
       "      <th>5837</th>\n",
       "      <td>1.997853</td>\n",
       "      <td>0.000000</td>\n",
       "      <td>2.427520</td>\n",
       "      <td>0.0</td>\n",
       "      <td>0.000000</td>\n",
       "      <td>8.455653</td>\n",
       "      <td>0.0</td>\n",
       "      <td>1.601164</td>\n",
       "      <td>5.687395</td>\n",
       "      <td>0.000000</td>\n",
       "      <td>0.000000</td>\n",
       "      <td>9.981335</td>\n",
       "      <td>1.989179</td>\n",
       "      <td>0.000000</td>\n",
       "      <td>7.536919</td>\n",
       "      <td>0.0</td>\n",
       "      <td>1.0</td>\n",
       "    </tr>\n",
       "    <tr>\n",
       "      <th>5838</th>\n",
       "      <td>2.094653</td>\n",
       "      <td>0.000000</td>\n",
       "      <td>2.627221</td>\n",
       "      <td>0.0</td>\n",
       "      <td>0.000000</td>\n",
       "      <td>2.975150</td>\n",
       "      <td>0.0</td>\n",
       "      <td>0.680309</td>\n",
       "      <td>2.050772</td>\n",
       "      <td>0.000000</td>\n",
       "      <td>0.000000</td>\n",
       "      <td>5.032138</td>\n",
       "      <td>3.099306</td>\n",
       "      <td>0.000000</td>\n",
       "      <td>4.069820</td>\n",
       "      <td>0.0</td>\n",
       "      <td>1.0</td>\n",
       "    </tr>\n",
       "    <tr>\n",
       "      <th>5839</th>\n",
       "      <td>1.407605</td>\n",
       "      <td>0.000000</td>\n",
       "      <td>5.003756</td>\n",
       "      <td>0.0</td>\n",
       "      <td>0.000000</td>\n",
       "      <td>1.113850</td>\n",
       "      <td>0.0</td>\n",
       "      <td>0.214730</td>\n",
       "      <td>0.000000</td>\n",
       "      <td>0.000000</td>\n",
       "      <td>0.000000</td>\n",
       "      <td>3.180110</td>\n",
       "      <td>2.689473</td>\n",
       "      <td>0.000000</td>\n",
       "      <td>5.041045</td>\n",
       "      <td>0.0</td>\n",
       "      <td>1.0</td>\n",
       "    </tr>\n",
       "  </tbody>\n",
       "</table>\n",
       "<p>5840 rows × 17 columns</p>\n",
       "</div>"
      ],
      "text/plain": [
       "            0         1         2    3         4         5    6         7   \\\n",
       "0     0.000000  1.158536  0.000000  0.0  0.407447  0.000000  0.0  0.000000   \n",
       "1     0.000000  1.584510  0.000000  0.0  1.718683  0.000000  0.0  0.000000   \n",
       "2     0.000000  2.761390  0.000000  0.0  1.975990  0.000000  0.0  0.000000   \n",
       "3     0.000000  1.926991  0.000000  0.0  1.026134  0.000000  0.0  0.000000   \n",
       "4     0.000000  0.894852  0.000000  0.0  1.446362  0.000000  0.0  0.000000   \n",
       "...        ...       ...       ...  ...       ...       ...  ...       ...   \n",
       "5835  2.589634  0.000000  6.876414  0.0  0.000000  8.591226  0.0  2.174064   \n",
       "5836  2.746883  0.000000  6.964716  0.0  0.000000  4.931220  0.0  1.817608   \n",
       "5837  1.997853  0.000000  2.427520  0.0  0.000000  8.455653  0.0  1.601164   \n",
       "5838  2.094653  0.000000  2.627221  0.0  0.000000  2.975150  0.0  0.680309   \n",
       "5839  1.407605  0.000000  5.003756  0.0  0.000000  1.113850  0.0  0.214730   \n",
       "\n",
       "            8         9         10        11        12        13         14  \\\n",
       "0     0.000000  0.783899  1.717193  0.000000  0.000000  2.060250   0.481997   \n",
       "1     0.000000  1.244361  0.814854  0.000000  0.000000  2.230511   0.085195   \n",
       "2     0.000000  2.168732  1.976272  0.000000  0.000000  5.739696   0.054311   \n",
       "3     0.000000  1.718145  1.486154  0.000000  0.000000  4.407917   0.000000   \n",
       "4     0.000000  1.029538  1.307556  0.000000  0.000000  2.864645   1.198703   \n",
       "...        ...       ...       ...       ...       ...       ...        ...   \n",
       "5835  5.135255  0.000000  0.000000  9.912086  3.272862  0.000000  10.029964   \n",
       "5836  2.229113  0.000000  0.000000  7.554579  4.087494  0.000000   8.482302   \n",
       "5837  5.687395  0.000000  0.000000  9.981335  1.989179  0.000000   7.536919   \n",
       "5838  2.050772  0.000000  0.000000  5.032138  3.099306  0.000000   4.069820   \n",
       "5839  0.000000  0.000000  0.000000  3.180110  2.689473  0.000000   5.041045   \n",
       "\n",
       "       15   16  \n",
       "0     0.0  0.0  \n",
       "1     0.0  0.0  \n",
       "2     0.0  0.0  \n",
       "3     0.0  0.0  \n",
       "4     0.0  0.0  \n",
       "...   ...  ...  \n",
       "5835  0.0  1.0  \n",
       "5836  0.0  1.0  \n",
       "5837  0.0  1.0  \n",
       "5838  0.0  1.0  \n",
       "5839  0.0  1.0  \n",
       "\n",
       "[5840 rows x 17 columns]"
      ]
     },
     "execution_count": 19,
     "metadata": {},
     "output_type": "execute_result"
    }
   ],
   "source": [
    "import pandas as pd\n",
    "\n",
    "df = pd.DataFrame(data_full)\n",
    "df"
   ]
  },
  {
   "cell_type": "code",
   "execution_count": 20,
   "id": "97749d81",
   "metadata": {},
   "outputs": [
    {
     "ename": "NameError",
     "evalue": "name 'data' is not defined",
     "output_type": "error",
     "traceback": [
      "\u001b[1;31m---------------------------------------------------------------------------\u001b[0m",
      "\u001b[1;31mNameError\u001b[0m                                 Traceback (most recent call last)",
      "Cell \u001b[1;32mIn[20], line 1\u001b[0m\n\u001b[1;32m----> 1\u001b[0m data[\u001b[38;5;241m0\u001b[39m]\n",
      "\u001b[1;31mNameError\u001b[0m: name 'data' is not defined"
     ]
    }
   ],
   "source": [
    "data[0]"
   ]
  },
  {
   "cell_type": "code",
   "execution_count": 21,
   "id": "863daf89",
   "metadata": {},
   "outputs": [
    {
     "data": {
      "text/plain": [
       "0       0.0\n",
       "1       0.0\n",
       "2       0.0\n",
       "3       0.0\n",
       "4       0.0\n",
       "       ... \n",
       "5835    1.0\n",
       "5836    1.0\n",
       "5837    1.0\n",
       "5838    1.0\n",
       "5839    1.0\n",
       "Name: 16, Length: 5840, dtype: float64"
      ]
     },
     "execution_count": 21,
     "metadata": {},
     "output_type": "execute_result"
    }
   ],
   "source": [
    "df.iloc[:,-1]"
   ]
  },
  {
   "cell_type": "code",
   "execution_count": null,
   "id": "1a3d35d0",
   "metadata": {},
   "outputs": [],
   "source": [
    "'''%%time\n",
    "from pycaret.classification import *\n",
    "pycaret_classification = setup(data = data_full, target = '16')'''"
   ]
  },
  {
   "cell_type": "code",
   "execution_count": null,
   "id": "f1321da0",
   "metadata": {},
   "outputs": [],
   "source": [
    "'''%%time\n",
    "from pycaret.classification import *\n",
    "pycaret_classification = setup(data = df, target = df.iloc[:,-1])'''"
   ]
  },
  {
   "cell_type": "code",
   "execution_count": 22,
   "id": "0c725d87",
   "metadata": {},
   "outputs": [],
   "source": [
    "import numpy as np\n",
    "import pandas as pd"
   ]
  },
  {
   "cell_type": "code",
   "execution_count": 24,
   "id": "1241593d",
   "metadata": {},
   "outputs": [
    {
     "data": {
      "text/plain": [
       "(5840, 17)"
      ]
     },
     "execution_count": 24,
     "metadata": {},
     "output_type": "execute_result"
    }
   ],
   "source": [
    "df.shape"
   ]
  },
  {
   "cell_type": "code",
   "execution_count": 49,
   "id": "177e0b67",
   "metadata": {},
   "outputs": [
    {
     "data": {
      "text/plain": [
       "(4672, 16)"
      ]
     },
     "execution_count": 49,
     "metadata": {},
     "output_type": "execute_result"
    }
   ],
   "source": [
    "df_train = df.iloc[0:4672,:-1]\n",
    "df_train.shape"
   ]
  },
  {
   "cell_type": "code",
   "execution_count": 50,
   "id": "db345bb8",
   "metadata": {},
   "outputs": [
    {
     "data": {
      "text/plain": [
       "(1168, 16)"
      ]
     },
     "execution_count": 50,
     "metadata": {},
     "output_type": "execute_result"
    }
   ],
   "source": [
    "df_test = df.iloc[-1168:,:-1]\n",
    "df_test.shape"
   ]
  },
  {
   "cell_type": "code",
   "execution_count": 51,
   "id": "cff337a8",
   "metadata": {},
   "outputs": [
    {
     "data": {
      "text/plain": [
       "(4672, 1)"
      ]
     },
     "execution_count": 51,
     "metadata": {},
     "output_type": "execute_result"
    }
   ],
   "source": [
    "df_train_y = df.iloc[0:4672,-1:]\n",
    "df_train_y.shape"
   ]
  },
  {
   "cell_type": "code",
   "execution_count": 52,
   "id": "79ec347d",
   "metadata": {},
   "outputs": [
    {
     "data": {
      "text/plain": [
       "(1168, 1)"
      ]
     },
     "execution_count": 52,
     "metadata": {},
     "output_type": "execute_result"
    }
   ],
   "source": [
    "df_test_y = df.iloc[-1168:,-1:]\n",
    "df_test_y.shape"
   ]
  },
  {
   "cell_type": "code",
   "execution_count": null,
   "id": "ccd188db",
   "metadata": {},
   "outputs": [],
   "source": [
    "from sklearn.model_selection import train_test_split"
   ]
  },
  {
   "cell_type": "code",
   "execution_count": null,
   "id": "fe843992",
   "metadata": {},
   "outputs": [],
   "source": [
    "df_train, df_test, df_train_y, df_test_y = train_test_split(X, y, test_size = 0.20, random_state = 0)"
   ]
  },
  {
   "cell_type": "code",
   "execution_count": 53,
   "id": "8d2219e5",
   "metadata": {},
   "outputs": [],
   "source": [
    "from sklearn.preprocessing import StandardScaler\n",
    "sc = StandardScaler()"
   ]
  },
  {
   "cell_type": "code",
   "execution_count": 54,
   "id": "85d30fbb",
   "metadata": {},
   "outputs": [],
   "source": [
    "from sklearn.tree import ExtraTreeClassifier \n"
   ]
  },
  {
   "cell_type": "code",
   "execution_count": 55,
   "id": "ba675e6b",
   "metadata": {},
   "outputs": [],
   "source": [
    "parameters = {'criterion': 'gini', 'max_depth': 25, 'min_samples_leaf': 6, 'splitter': 'best'}\n",
    "\n",
    "classifier = ExtraTreeClassifier(**parameters, random_state = 0)"
   ]
  },
  {
   "cell_type": "code",
   "execution_count": 56,
   "id": "be458886",
   "metadata": {},
   "outputs": [
    {
     "data": {
      "text/html": [
       "<style>#sk-container-id-1 {\n",
       "  /* Definition of color scheme common for light and dark mode */\n",
       "  --sklearn-color-text: black;\n",
       "  --sklearn-color-line: gray;\n",
       "  /* Definition of color scheme for unfitted estimators */\n",
       "  --sklearn-color-unfitted-level-0: #fff5e6;\n",
       "  --sklearn-color-unfitted-level-1: #f6e4d2;\n",
       "  --sklearn-color-unfitted-level-2: #ffe0b3;\n",
       "  --sklearn-color-unfitted-level-3: chocolate;\n",
       "  /* Definition of color scheme for fitted estimators */\n",
       "  --sklearn-color-fitted-level-0: #f0f8ff;\n",
       "  --sklearn-color-fitted-level-1: #d4ebff;\n",
       "  --sklearn-color-fitted-level-2: #b3dbfd;\n",
       "  --sklearn-color-fitted-level-3: cornflowerblue;\n",
       "\n",
       "  /* Specific color for light theme */\n",
       "  --sklearn-color-text-on-default-background: var(--sg-text-color, var(--theme-code-foreground, var(--jp-content-font-color1, black)));\n",
       "  --sklearn-color-background: var(--sg-background-color, var(--theme-background, var(--jp-layout-color0, white)));\n",
       "  --sklearn-color-border-box: var(--sg-text-color, var(--theme-code-foreground, var(--jp-content-font-color1, black)));\n",
       "  --sklearn-color-icon: #696969;\n",
       "\n",
       "  @media (prefers-color-scheme: dark) {\n",
       "    /* Redefinition of color scheme for dark theme */\n",
       "    --sklearn-color-text-on-default-background: var(--sg-text-color, var(--theme-code-foreground, var(--jp-content-font-color1, white)));\n",
       "    --sklearn-color-background: var(--sg-background-color, var(--theme-background, var(--jp-layout-color0, #111)));\n",
       "    --sklearn-color-border-box: var(--sg-text-color, var(--theme-code-foreground, var(--jp-content-font-color1, white)));\n",
       "    --sklearn-color-icon: #878787;\n",
       "  }\n",
       "}\n",
       "\n",
       "#sk-container-id-1 {\n",
       "  color: var(--sklearn-color-text);\n",
       "}\n",
       "\n",
       "#sk-container-id-1 pre {\n",
       "  padding: 0;\n",
       "}\n",
       "\n",
       "#sk-container-id-1 input.sk-hidden--visually {\n",
       "  border: 0;\n",
       "  clip: rect(1px 1px 1px 1px);\n",
       "  clip: rect(1px, 1px, 1px, 1px);\n",
       "  height: 1px;\n",
       "  margin: -1px;\n",
       "  overflow: hidden;\n",
       "  padding: 0;\n",
       "  position: absolute;\n",
       "  width: 1px;\n",
       "}\n",
       "\n",
       "#sk-container-id-1 div.sk-dashed-wrapped {\n",
       "  border: 1px dashed var(--sklearn-color-line);\n",
       "  margin: 0 0.4em 0.5em 0.4em;\n",
       "  box-sizing: border-box;\n",
       "  padding-bottom: 0.4em;\n",
       "  background-color: var(--sklearn-color-background);\n",
       "}\n",
       "\n",
       "#sk-container-id-1 div.sk-container {\n",
       "  /* jupyter's `normalize.less` sets `[hidden] { display: none; }`\n",
       "     but bootstrap.min.css set `[hidden] { display: none !important; }`\n",
       "     so we also need the `!important` here to be able to override the\n",
       "     default hidden behavior on the sphinx rendered scikit-learn.org.\n",
       "     See: https://github.com/scikit-learn/scikit-learn/issues/21755 */\n",
       "  display: inline-block !important;\n",
       "  position: relative;\n",
       "}\n",
       "\n",
       "#sk-container-id-1 div.sk-text-repr-fallback {\n",
       "  display: none;\n",
       "}\n",
       "\n",
       "div.sk-parallel-item,\n",
       "div.sk-serial,\n",
       "div.sk-item {\n",
       "  /* draw centered vertical line to link estimators */\n",
       "  background-image: linear-gradient(var(--sklearn-color-text-on-default-background), var(--sklearn-color-text-on-default-background));\n",
       "  background-size: 2px 100%;\n",
       "  background-repeat: no-repeat;\n",
       "  background-position: center center;\n",
       "}\n",
       "\n",
       "/* Parallel-specific style estimator block */\n",
       "\n",
       "#sk-container-id-1 div.sk-parallel-item::after {\n",
       "  content: \"\";\n",
       "  width: 100%;\n",
       "  border-bottom: 2px solid var(--sklearn-color-text-on-default-background);\n",
       "  flex-grow: 1;\n",
       "}\n",
       "\n",
       "#sk-container-id-1 div.sk-parallel {\n",
       "  display: flex;\n",
       "  align-items: stretch;\n",
       "  justify-content: center;\n",
       "  background-color: var(--sklearn-color-background);\n",
       "  position: relative;\n",
       "}\n",
       "\n",
       "#sk-container-id-1 div.sk-parallel-item {\n",
       "  display: flex;\n",
       "  flex-direction: column;\n",
       "}\n",
       "\n",
       "#sk-container-id-1 div.sk-parallel-item:first-child::after {\n",
       "  align-self: flex-end;\n",
       "  width: 50%;\n",
       "}\n",
       "\n",
       "#sk-container-id-1 div.sk-parallel-item:last-child::after {\n",
       "  align-self: flex-start;\n",
       "  width: 50%;\n",
       "}\n",
       "\n",
       "#sk-container-id-1 div.sk-parallel-item:only-child::after {\n",
       "  width: 0;\n",
       "}\n",
       "\n",
       "/* Serial-specific style estimator block */\n",
       "\n",
       "#sk-container-id-1 div.sk-serial {\n",
       "  display: flex;\n",
       "  flex-direction: column;\n",
       "  align-items: center;\n",
       "  background-color: var(--sklearn-color-background);\n",
       "  padding-right: 1em;\n",
       "  padding-left: 1em;\n",
       "}\n",
       "\n",
       "\n",
       "/* Toggleable style: style used for estimator/Pipeline/ColumnTransformer box that is\n",
       "clickable and can be expanded/collapsed.\n",
       "- Pipeline and ColumnTransformer use this feature and define the default style\n",
       "- Estimators will overwrite some part of the style using the `sk-estimator` class\n",
       "*/\n",
       "\n",
       "/* Pipeline and ColumnTransformer style (default) */\n",
       "\n",
       "#sk-container-id-1 div.sk-toggleable {\n",
       "  /* Default theme specific background. It is overwritten whether we have a\n",
       "  specific estimator or a Pipeline/ColumnTransformer */\n",
       "  background-color: var(--sklearn-color-background);\n",
       "}\n",
       "\n",
       "/* Toggleable label */\n",
       "#sk-container-id-1 label.sk-toggleable__label {\n",
       "  cursor: pointer;\n",
       "  display: block;\n",
       "  width: 100%;\n",
       "  margin-bottom: 0;\n",
       "  padding: 0.5em;\n",
       "  box-sizing: border-box;\n",
       "  text-align: center;\n",
       "}\n",
       "\n",
       "#sk-container-id-1 label.sk-toggleable__label-arrow:before {\n",
       "  /* Arrow on the left of the label */\n",
       "  content: \"▸\";\n",
       "  float: left;\n",
       "  margin-right: 0.25em;\n",
       "  color: var(--sklearn-color-icon);\n",
       "}\n",
       "\n",
       "#sk-container-id-1 label.sk-toggleable__label-arrow:hover:before {\n",
       "  color: var(--sklearn-color-text);\n",
       "}\n",
       "\n",
       "/* Toggleable content - dropdown */\n",
       "\n",
       "#sk-container-id-1 div.sk-toggleable__content {\n",
       "  max-height: 0;\n",
       "  max-width: 0;\n",
       "  overflow: hidden;\n",
       "  text-align: left;\n",
       "  /* unfitted */\n",
       "  background-color: var(--sklearn-color-unfitted-level-0);\n",
       "}\n",
       "\n",
       "#sk-container-id-1 div.sk-toggleable__content.fitted {\n",
       "  /* fitted */\n",
       "  background-color: var(--sklearn-color-fitted-level-0);\n",
       "}\n",
       "\n",
       "#sk-container-id-1 div.sk-toggleable__content pre {\n",
       "  margin: 0.2em;\n",
       "  border-radius: 0.25em;\n",
       "  color: var(--sklearn-color-text);\n",
       "  /* unfitted */\n",
       "  background-color: var(--sklearn-color-unfitted-level-0);\n",
       "}\n",
       "\n",
       "#sk-container-id-1 div.sk-toggleable__content.fitted pre {\n",
       "  /* unfitted */\n",
       "  background-color: var(--sklearn-color-fitted-level-0);\n",
       "}\n",
       "\n",
       "#sk-container-id-1 input.sk-toggleable__control:checked~div.sk-toggleable__content {\n",
       "  /* Expand drop-down */\n",
       "  max-height: 200px;\n",
       "  max-width: 100%;\n",
       "  overflow: auto;\n",
       "}\n",
       "\n",
       "#sk-container-id-1 input.sk-toggleable__control:checked~label.sk-toggleable__label-arrow:before {\n",
       "  content: \"▾\";\n",
       "}\n",
       "\n",
       "/* Pipeline/ColumnTransformer-specific style */\n",
       "\n",
       "#sk-container-id-1 div.sk-label input.sk-toggleable__control:checked~label.sk-toggleable__label {\n",
       "  color: var(--sklearn-color-text);\n",
       "  background-color: var(--sklearn-color-unfitted-level-2);\n",
       "}\n",
       "\n",
       "#sk-container-id-1 div.sk-label.fitted input.sk-toggleable__control:checked~label.sk-toggleable__label {\n",
       "  background-color: var(--sklearn-color-fitted-level-2);\n",
       "}\n",
       "\n",
       "/* Estimator-specific style */\n",
       "\n",
       "/* Colorize estimator box */\n",
       "#sk-container-id-1 div.sk-estimator input.sk-toggleable__control:checked~label.sk-toggleable__label {\n",
       "  /* unfitted */\n",
       "  background-color: var(--sklearn-color-unfitted-level-2);\n",
       "}\n",
       "\n",
       "#sk-container-id-1 div.sk-estimator.fitted input.sk-toggleable__control:checked~label.sk-toggleable__label {\n",
       "  /* fitted */\n",
       "  background-color: var(--sklearn-color-fitted-level-2);\n",
       "}\n",
       "\n",
       "#sk-container-id-1 div.sk-label label.sk-toggleable__label,\n",
       "#sk-container-id-1 div.sk-label label {\n",
       "  /* The background is the default theme color */\n",
       "  color: var(--sklearn-color-text-on-default-background);\n",
       "}\n",
       "\n",
       "/* On hover, darken the color of the background */\n",
       "#sk-container-id-1 div.sk-label:hover label.sk-toggleable__label {\n",
       "  color: var(--sklearn-color-text);\n",
       "  background-color: var(--sklearn-color-unfitted-level-2);\n",
       "}\n",
       "\n",
       "/* Label box, darken color on hover, fitted */\n",
       "#sk-container-id-1 div.sk-label.fitted:hover label.sk-toggleable__label.fitted {\n",
       "  color: var(--sklearn-color-text);\n",
       "  background-color: var(--sklearn-color-fitted-level-2);\n",
       "}\n",
       "\n",
       "/* Estimator label */\n",
       "\n",
       "#sk-container-id-1 div.sk-label label {\n",
       "  font-family: monospace;\n",
       "  font-weight: bold;\n",
       "  display: inline-block;\n",
       "  line-height: 1.2em;\n",
       "}\n",
       "\n",
       "#sk-container-id-1 div.sk-label-container {\n",
       "  text-align: center;\n",
       "}\n",
       "\n",
       "/* Estimator-specific */\n",
       "#sk-container-id-1 div.sk-estimator {\n",
       "  font-family: monospace;\n",
       "  border: 1px dotted var(--sklearn-color-border-box);\n",
       "  border-radius: 0.25em;\n",
       "  box-sizing: border-box;\n",
       "  margin-bottom: 0.5em;\n",
       "  /* unfitted */\n",
       "  background-color: var(--sklearn-color-unfitted-level-0);\n",
       "}\n",
       "\n",
       "#sk-container-id-1 div.sk-estimator.fitted {\n",
       "  /* fitted */\n",
       "  background-color: var(--sklearn-color-fitted-level-0);\n",
       "}\n",
       "\n",
       "/* on hover */\n",
       "#sk-container-id-1 div.sk-estimator:hover {\n",
       "  /* unfitted */\n",
       "  background-color: var(--sklearn-color-unfitted-level-2);\n",
       "}\n",
       "\n",
       "#sk-container-id-1 div.sk-estimator.fitted:hover {\n",
       "  /* fitted */\n",
       "  background-color: var(--sklearn-color-fitted-level-2);\n",
       "}\n",
       "\n",
       "/* Specification for estimator info (e.g. \"i\" and \"?\") */\n",
       "\n",
       "/* Common style for \"i\" and \"?\" */\n",
       "\n",
       ".sk-estimator-doc-link,\n",
       "a:link.sk-estimator-doc-link,\n",
       "a:visited.sk-estimator-doc-link {\n",
       "  float: right;\n",
       "  font-size: smaller;\n",
       "  line-height: 1em;\n",
       "  font-family: monospace;\n",
       "  background-color: var(--sklearn-color-background);\n",
       "  border-radius: 1em;\n",
       "  height: 1em;\n",
       "  width: 1em;\n",
       "  text-decoration: none !important;\n",
       "  margin-left: 1ex;\n",
       "  /* unfitted */\n",
       "  border: var(--sklearn-color-unfitted-level-1) 1pt solid;\n",
       "  color: var(--sklearn-color-unfitted-level-1);\n",
       "}\n",
       "\n",
       ".sk-estimator-doc-link.fitted,\n",
       "a:link.sk-estimator-doc-link.fitted,\n",
       "a:visited.sk-estimator-doc-link.fitted {\n",
       "  /* fitted */\n",
       "  border: var(--sklearn-color-fitted-level-1) 1pt solid;\n",
       "  color: var(--sklearn-color-fitted-level-1);\n",
       "}\n",
       "\n",
       "/* On hover */\n",
       "div.sk-estimator:hover .sk-estimator-doc-link:hover,\n",
       ".sk-estimator-doc-link:hover,\n",
       "div.sk-label-container:hover .sk-estimator-doc-link:hover,\n",
       ".sk-estimator-doc-link:hover {\n",
       "  /* unfitted */\n",
       "  background-color: var(--sklearn-color-unfitted-level-3);\n",
       "  color: var(--sklearn-color-background);\n",
       "  text-decoration: none;\n",
       "}\n",
       "\n",
       "div.sk-estimator.fitted:hover .sk-estimator-doc-link.fitted:hover,\n",
       ".sk-estimator-doc-link.fitted:hover,\n",
       "div.sk-label-container:hover .sk-estimator-doc-link.fitted:hover,\n",
       ".sk-estimator-doc-link.fitted:hover {\n",
       "  /* fitted */\n",
       "  background-color: var(--sklearn-color-fitted-level-3);\n",
       "  color: var(--sklearn-color-background);\n",
       "  text-decoration: none;\n",
       "}\n",
       "\n",
       "/* Span, style for the box shown on hovering the info icon */\n",
       ".sk-estimator-doc-link span {\n",
       "  display: none;\n",
       "  z-index: 9999;\n",
       "  position: relative;\n",
       "  font-weight: normal;\n",
       "  right: .2ex;\n",
       "  padding: .5ex;\n",
       "  margin: .5ex;\n",
       "  width: min-content;\n",
       "  min-width: 20ex;\n",
       "  max-width: 50ex;\n",
       "  color: var(--sklearn-color-text);\n",
       "  box-shadow: 2pt 2pt 4pt #999;\n",
       "  /* unfitted */\n",
       "  background: var(--sklearn-color-unfitted-level-0);\n",
       "  border: .5pt solid var(--sklearn-color-unfitted-level-3);\n",
       "}\n",
       "\n",
       ".sk-estimator-doc-link.fitted span {\n",
       "  /* fitted */\n",
       "  background: var(--sklearn-color-fitted-level-0);\n",
       "  border: var(--sklearn-color-fitted-level-3);\n",
       "}\n",
       "\n",
       ".sk-estimator-doc-link:hover span {\n",
       "  display: block;\n",
       "}\n",
       "\n",
       "/* \"?\"-specific style due to the `<a>` HTML tag */\n",
       "\n",
       "#sk-container-id-1 a.estimator_doc_link {\n",
       "  float: right;\n",
       "  font-size: 1rem;\n",
       "  line-height: 1em;\n",
       "  font-family: monospace;\n",
       "  background-color: var(--sklearn-color-background);\n",
       "  border-radius: 1rem;\n",
       "  height: 1rem;\n",
       "  width: 1rem;\n",
       "  text-decoration: none;\n",
       "  /* unfitted */\n",
       "  color: var(--sklearn-color-unfitted-level-1);\n",
       "  border: var(--sklearn-color-unfitted-level-1) 1pt solid;\n",
       "}\n",
       "\n",
       "#sk-container-id-1 a.estimator_doc_link.fitted {\n",
       "  /* fitted */\n",
       "  border: var(--sklearn-color-fitted-level-1) 1pt solid;\n",
       "  color: var(--sklearn-color-fitted-level-1);\n",
       "}\n",
       "\n",
       "/* On hover */\n",
       "#sk-container-id-1 a.estimator_doc_link:hover {\n",
       "  /* unfitted */\n",
       "  background-color: var(--sklearn-color-unfitted-level-3);\n",
       "  color: var(--sklearn-color-background);\n",
       "  text-decoration: none;\n",
       "}\n",
       "\n",
       "#sk-container-id-1 a.estimator_doc_link.fitted:hover {\n",
       "  /* fitted */\n",
       "  background-color: var(--sklearn-color-fitted-level-3);\n",
       "}\n",
       "</style><div id=\"sk-container-id-1\" class=\"sk-top-container\"><div class=\"sk-text-repr-fallback\"><pre>ExtraTreeClassifier(max_depth=25, min_samples_leaf=6, random_state=0,\n",
       "                    splitter=&#x27;best&#x27;)</pre><b>In a Jupyter environment, please rerun this cell to show the HTML representation or trust the notebook. <br />On GitHub, the HTML representation is unable to render, please try loading this page with nbviewer.org.</b></div><div class=\"sk-container\" hidden><div class=\"sk-item\"><div class=\"sk-estimator fitted sk-toggleable\"><input class=\"sk-toggleable__control sk-hidden--visually\" id=\"sk-estimator-id-1\" type=\"checkbox\" checked><label for=\"sk-estimator-id-1\" class=\"sk-toggleable__label fitted sk-toggleable__label-arrow fitted\">&nbsp;&nbsp;ExtraTreeClassifier<a class=\"sk-estimator-doc-link fitted\" rel=\"noreferrer\" target=\"_blank\" href=\"https://scikit-learn.org/1.4/modules/generated/sklearn.tree.ExtraTreeClassifier.html\">?<span>Documentation for ExtraTreeClassifier</span></a><span class=\"sk-estimator-doc-link fitted\">i<span>Fitted</span></span></label><div class=\"sk-toggleable__content fitted\"><pre>ExtraTreeClassifier(max_depth=25, min_samples_leaf=6, random_state=0,\n",
       "                    splitter=&#x27;best&#x27;)</pre></div> </div></div></div></div>"
      ],
      "text/plain": [
       "ExtraTreeClassifier(max_depth=25, min_samples_leaf=6, random_state=0,\n",
       "                    splitter='best')"
      ]
     },
     "execution_count": 56,
     "metadata": {},
     "output_type": "execute_result"
    }
   ],
   "source": [
    "classifier.fit(X_train, y_train)"
   ]
  },
  {
   "cell_type": "code",
   "execution_count": 58,
   "id": "567601e3",
   "metadata": {},
   "outputs": [
    {
     "name": "stdout",
     "output_type": "stream",
     "text": [
      "Mean accuracy: 96.90 %\n",
      "Standard Deviation: 1.08 %\n",
      "Accuracy of each split:  [0.97435897 0.95726496 0.97858672 0.9764454  0.98286938 0.94646681\n",
      " 0.97430407 0.96573876 0.97430407 0.95931478]\n"
     ]
    }
   ],
   "source": [
    "from sklearn.model_selection import cross_val_score\n",
    "\n",
    "accuracies = cross_val_score(estimator = classifier, X = df_train, y = df_train_y, cv = 10)\n",
    "\n",
    "print(\"Mean accuracy: {:.2f} %\".format(accuracies.mean()*100))\n",
    "print(\"Standard Deviation: {:.2f} %\".format(accuracies.std()*100))\n",
    "print(\"Accuracy of each split: \" , accuracies)"
   ]
  },
  {
   "cell_type": "code",
   "execution_count": 60,
   "id": "0ed9e912",
   "metadata": {},
   "outputs": [
    {
     "name": "stdout",
     "output_type": "stream",
     "text": [
      "Matrix prediction for X_test:  [1 1 1 ... 1 1 1]\n"
     ]
    }
   ],
   "source": [
    "prediction = classifier.predict(df_test)\n",
    "print(\"Matrix prediction for X_test: \",prediction)"
   ]
  },
  {
   "cell_type": "code",
   "execution_count": 65,
   "id": "4e529325",
   "metadata": {},
   "outputs": [
    {
     "name": "stdout",
     "output_type": "stream",
     "text": [
      "Confusion matrix: \n",
      "[[135  99]\n",
      " [ 18 916]]\n",
      "True Positive:916  True Negative:135  False Positive:99  False Negative:18\n",
      "Predict right: 1051 - Predict wrong: 117\n",
      "Accurate:  0.8998287671232876\n"
     ]
    }
   ],
   "source": [
    "from sklearn.metrics import confusion_matrix, accuracy_score\n",
    "cm = confusion_matrix(df_test_y, prediction)\n",
    "print('Confusion matrix: ')\n",
    "print(cm)\n",
    "\n",
    "print(f'True Positive:{cm[1][1]}  True Negative:{cm[0][0]}  False Positive:{cm[0][1]}  False Negative:{cm[1][0]}')\n",
    "\n",
    "right = cm[1][1]+cm[0][0]\n",
    "wrong = cm[1][0]+cm[0][1]\n",
    "print(f'Predict right: {right} - Predict wrong: {wrong}')\n",
    "\n",
    "acc = accuracy_score(df_test_y, prediction)\n",
    "print('Accurate: ',acc)\n"
   ]
  },
  {
   "cell_type": "code",
   "execution_count": null,
   "id": "aa23c150",
   "metadata": {},
   "outputs": [],
   "source": []
  },
  {
   "cell_type": "code",
   "execution_count": null,
   "id": "893a10d4",
   "metadata": {},
   "outputs": [],
   "source": [
    "%%time\n",
    "from pycaret.classification import *\n",
    "pycaret_classification = setup(data = df, target = \"16\")"
   ]
  },
  {
   "cell_type": "code",
   "execution_count": null,
   "id": "b6b2a40c",
   "metadata": {},
   "outputs": [],
   "source": [
    "best_model = compare_models(fold=10)"
   ]
  },
  {
   "cell_type": "code",
   "execution_count": null,
   "id": "f4c5a357",
   "metadata": {},
   "outputs": [],
   "source": [
    "et = create_model('et')"
   ]
  },
  {
   "cell_type": "code",
   "execution_count": null,
   "id": "092289db",
   "metadata": {},
   "outputs": [],
   "source": [
    "plot_model(et, plot = 'confusion_matrix')\n",
    "\n",
    "# 422+51+22+1247 = 1753 Transformed test set shape\t(1753, 17)"
   ]
  },
  {
   "cell_type": "code",
   "execution_count": null,
   "id": "56911890",
   "metadata": {},
   "outputs": [],
   "source": [
    "save_model(et,\"Final Model v100 \")"
   ]
  },
  {
   "cell_type": "code",
   "execution_count": null,
   "id": "418c910b",
   "metadata": {},
   "outputs": [],
   "source": [
    "evaluate_model(et)"
   ]
  }
 ],
 "metadata": {
  "kernelspec": {
   "display_name": "Python 3 (ipykernel)",
   "language": "python",
   "name": "python3"
  },
  "language_info": {
   "codemirror_mode": {
    "name": "ipython",
    "version": 3
   },
   "file_extension": ".py",
   "mimetype": "text/x-python",
   "name": "python",
   "nbconvert_exporter": "python",
   "pygments_lexer": "ipython3",
   "version": "3.11.5"
  }
 },
 "nbformat": 4,
 "nbformat_minor": 5
}
